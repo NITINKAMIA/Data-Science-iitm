{
 "cells": [
  {
   "cell_type": "code",
   "execution_count": null,
   "id": "36d048d0",
   "metadata": {},
   "outputs": [
    {
     "name": "stdout",
     "output_type": "stream",
     "text": [
      "something is wrong\n"
     ]
    }
   ],
   "source": [
    "#exceptional handling\n",
    "age = '23'\n",
    "\n",
    "try:\n",
    "    if age>=18:\n",
    "        print('can vote')\n",
    "    else:\n",
    "        print('cannot vote')\n",
    "except TypeError:\n",
    "    print('something is wrong')\n",
    "        \n",
    "except:\n",
    "  print('Invalid Code!!')"
   ]
  },
  {
   "cell_type": "code",
   "execution_count": null,
   "id": "d1b15224",
   "metadata": {},
   "outputs": [],
   "source": [
    "def student_records(**kwargs):\n",
    "    import pandas as pd\n",
    "    try:\n",
    "        data=pd.DataFrame(kwargs)\n",
    "        return data\n",
    "    except:\n",
    "        data=pd.DataFrame(kwargs,index=[1])\n",
    "        return data"
   ]
  },
  {
   "cell_type": "code",
   "execution_count": 5,
   "id": "3a2cde67",
   "metadata": {},
   "outputs": [
    {
     "data": {
      "text/html": [
       "<div>\n",
       "<style scoped>\n",
       "    .dataframe tbody tr th:only-of-type {\n",
       "        vertical-align: middle;\n",
       "    }\n",
       "\n",
       "    .dataframe tbody tr th {\n",
       "        vertical-align: top;\n",
       "    }\n",
       "\n",
       "    .dataframe thead th {\n",
       "        text-align: right;\n",
       "    }\n",
       "</style>\n",
       "<table border=\"1\" class=\"dataframe\">\n",
       "  <thead>\n",
       "    <tr style=\"text-align: right;\">\n",
       "      <th></th>\n",
       "      <th>name</th>\n",
       "      <th>age</th>\n",
       "      <th>titles</th>\n",
       "    </tr>\n",
       "  </thead>\n",
       "  <tbody>\n",
       "    <tr>\n",
       "      <th>1</th>\n",
       "      <td>john cena</td>\n",
       "      <td>49</td>\n",
       "      <td>17</td>\n",
       "    </tr>\n",
       "  </tbody>\n",
       "</table>\n",
       "</div>"
      ],
      "text/plain": [
       "        name  age  titles\n",
       "1  john cena   49      17"
      ]
     },
     "execution_count": 5,
     "metadata": {},
     "output_type": "execute_result"
    }
   ],
   "source": [
    "student_records(name='john cena',age=49,titles=17)"
   ]
  },
  {
   "cell_type": "code",
   "execution_count": 13,
   "id": "2174d32d",
   "metadata": {},
   "outputs": [
    {
     "data": {
      "text/html": [
       "<div>\n",
       "<style scoped>\n",
       "    .dataframe tbody tr th:only-of-type {\n",
       "        vertical-align: middle;\n",
       "    }\n",
       "\n",
       "    .dataframe tbody tr th {\n",
       "        vertical-align: top;\n",
       "    }\n",
       "\n",
       "    .dataframe thead th {\n",
       "        text-align: right;\n",
       "    }\n",
       "</style>\n",
       "<table border=\"1\" class=\"dataframe\">\n",
       "  <thead>\n",
       "    <tr style=\"text-align: right;\">\n",
       "      <th></th>\n",
       "      <th>name</th>\n",
       "      <th>age</th>\n",
       "      <th>titles</th>\n",
       "      <th>sec</th>\n",
       "    </tr>\n",
       "  </thead>\n",
       "  <tbody>\n",
       "    <tr>\n",
       "      <th>0</th>\n",
       "      <td>john</td>\n",
       "      <td>49</td>\n",
       "      <td>17</td>\n",
       "      <td>A</td>\n",
       "    </tr>\n",
       "    <tr>\n",
       "      <th>1</th>\n",
       "      <td>randy</td>\n",
       "      <td>48</td>\n",
       "      <td>15</td>\n",
       "      <td>B</td>\n",
       "    </tr>\n",
       "    <tr>\n",
       "      <th>2</th>\n",
       "      <td>hhh</td>\n",
       "      <td>51</td>\n",
       "      <td>14</td>\n",
       "      <td>C</td>\n",
       "    </tr>\n",
       "  </tbody>\n",
       "</table>\n",
       "</div>"
      ],
      "text/plain": [
       "    name  age  titles sec\n",
       "0   john   49      17   A\n",
       "1  randy   48      15   B\n",
       "2    hhh   51      14   C"
      ]
     },
     "execution_count": 13,
     "metadata": {},
     "output_type": "execute_result"
    }
   ],
   "source": [
    "student_records(name=[\"john\",\"randy\",\"hhh\"],\n",
    "                age=[49,48,51],\n",
    "                titles=[17,15,14],\n",
    "                sec=list('ABC')\n",
    "                )"
   ]
  },
  {
   "cell_type": "code",
   "execution_count": 14,
   "id": "c56ca097",
   "metadata": {},
   "outputs": [],
   "source": [
    "def show_time():\n",
    "    while True:\n",
    "        import time\n",
    "        print(time.asctime())\n",
    "        time.sleep(1)\n",
    "        display(clear=True)"
   ]
  },
  {
   "cell_type": "code",
   "execution_count": 16,
   "id": "c62da3ca",
   "metadata": {},
   "outputs": [
    {
     "name": "stdout",
     "output_type": "stream",
     "text": [
      "Fri Jul  4 10:36:24 2025\n"
     ]
    },
    {
     "ename": "KeyboardInterrupt",
     "evalue": "",
     "output_type": "error",
     "traceback": [
      "\u001b[31m---------------------------------------------------------------------------\u001b[39m",
      "\u001b[31mKeyboardInterrupt\u001b[39m                         Traceback (most recent call last)",
      "\u001b[36mCell\u001b[39m\u001b[36m \u001b[39m\u001b[32mIn[16]\u001b[39m\u001b[32m, line 1\u001b[39m\n\u001b[32m----> \u001b[39m\u001b[32m1\u001b[39m \u001b[43mshow_time\u001b[49m\u001b[43m(\u001b[49m\u001b[43m)\u001b[49m\n",
      "\u001b[36mCell\u001b[39m\u001b[36m \u001b[39m\u001b[32mIn[14]\u001b[39m\u001b[32m, line 5\u001b[39m, in \u001b[36mshow_time\u001b[39m\u001b[34m()\u001b[39m\n\u001b[32m      3\u001b[39m \u001b[38;5;28;01mimport\u001b[39;00m\u001b[38;5;250m \u001b[39m\u001b[34;01mtime\u001b[39;00m\n\u001b[32m      4\u001b[39m \u001b[38;5;28mprint\u001b[39m(time.asctime())\n\u001b[32m----> \u001b[39m\u001b[32m5\u001b[39m \u001b[43mtime\u001b[49m\u001b[43m.\u001b[49m\u001b[43msleep\u001b[49m\u001b[43m(\u001b[49m\u001b[32;43m1\u001b[39;49m\u001b[43m)\u001b[49m\n\u001b[32m      6\u001b[39m display(clear=\u001b[38;5;28;01mTrue\u001b[39;00m)\n",
      "\u001b[31mKeyboardInterrupt\u001b[39m: "
     ]
    }
   ],
   "source": [
    "show_time()"
   ]
  },
  {
   "cell_type": "code",
   "execution_count": 21,
   "id": "0c502b34",
   "metadata": {},
   "outputs": [],
   "source": [
    "def show_time():\n",
    "    try:\n",
    "     while True:\n",
    "        import time\n",
    "        print(time.asctime())\n",
    "        time.sleep(1)\n",
    "        display(clear=True)\n",
    "    except:\n",
    "        print('time has been stopped by the user')    "
   ]
  },
  {
   "cell_type": "code",
   "execution_count": 22,
   "id": "a6b7fcf7",
   "metadata": {},
   "outputs": [
    {
     "name": "stdout",
     "output_type": "stream",
     "text": [
      "Fri Jul  4 10:44:09 2025\n",
      "time has been stopped by the user\n"
     ]
    }
   ],
   "source": [
    "show_time()"
   ]
  },
  {
   "cell_type": "code",
   "execution_count": null,
   "id": "a79dba62",
   "metadata": {},
   "outputs": [],
   "source": []
  },
  {
   "cell_type": "code",
   "execution_count": 25,
   "id": "ef42a560",
   "metadata": {},
   "outputs": [
    {
     "name": "stdout",
     "output_type": "stream",
     "text": [
      "done\n"
     ]
    }
   ],
   "source": [
    "import john as jc\n",
    "print('done')\n"
   ]
  },
  {
   "cell_type": "code",
   "execution_count": 26,
   "id": "bc2709ff",
   "metadata": {},
   "outputs": [
    {
     "name": "stdout",
     "output_type": "stream",
     "text": [
      "    $ \n",
      "   $ $ \n",
      "  $ $ $ \n",
      " $ $ $ $ \n",
      "$ $ $ $ $ \n"
     ]
    }
   ],
   "source": [
    "jc.print_star(typ='mid',shape='$')"
   ]
  },
  {
   "cell_type": "code",
   "execution_count": 27,
   "id": "ac7d7ef6",
   "metadata": {},
   "outputs": [
    {
     "name": "stdout",
     "output_type": "stream",
     "text": [
      "* \n",
      "* * \n",
      "* * * \n",
      "* * * * \n",
      "* * * * * \n"
     ]
    }
   ],
   "source": [
    "jc.print_star()"
   ]
  },
  {
   "cell_type": "code",
   "execution_count": 28,
   "id": "9385443b",
   "metadata": {},
   "outputs": [
    {
     "data": {
      "text/plain": [
       "'Palindrome'"
      ]
     },
     "execution_count": 28,
     "metadata": {},
     "output_type": "execute_result"
    }
   ],
   "source": [
    "jc.check_palindrome('nitin')"
   ]
  },
  {
   "cell_type": "code",
   "execution_count": 29,
   "id": "015c7377",
   "metadata": {},
   "outputs": [
    {
     "data": {
      "text/plain": [
       "'Not a Prime Number'"
      ]
     },
     "execution_count": 29,
     "metadata": {},
     "output_type": "execute_result"
    }
   ],
   "source": [
    "jc.check_prime(5346)"
   ]
  },
  {
   "cell_type": "code",
   "execution_count": 30,
   "id": "ad5a99ad",
   "metadata": {},
   "outputs": [
    {
     "data": {
      "text/plain": [
       "6"
      ]
     },
     "execution_count": 30,
     "metadata": {},
     "output_type": "execute_result"
    }
   ],
   "source": [
    "jc.factorial(3)"
   ]
  },
  {
   "cell_type": "code",
   "execution_count": 33,
   "id": "2b9405cc",
   "metadata": {},
   "outputs": [
    {
     "data": {
      "text/plain": [
       "[0, 1, 1, 2, 3, 5, 8, 13]"
      ]
     },
     "execution_count": 33,
     "metadata": {},
     "output_type": "execute_result"
    }
   ],
   "source": [
    "jc.give_fibo(8)"
   ]
  },
  {
   "cell_type": "code",
   "execution_count": 37,
   "id": "50c89997",
   "metadata": {},
   "outputs": [
    {
     "data": {
      "text/plain": [
       "45"
      ]
     },
     "execution_count": 37,
     "metadata": {},
     "output_type": "execute_result"
    }
   ],
   "source": [
    "jc.minn(55,90,45,91)"
   ]
  },
  {
   "cell_type": "code",
   "execution_count": 38,
   "id": "c7f95899",
   "metadata": {},
   "outputs": [
    {
     "name": "stdout",
     "output_type": "stream",
     "text": [
      "Fri Jul  4 11:59:24 2025\n",
      "time has been stopped by the user\n"
     ]
    }
   ],
   "source": [
    "jc.show_time()"
   ]
  },
  {
   "cell_type": "code",
   "execution_count": 43,
   "id": "ad51fe46",
   "metadata": {},
   "outputs": [
    {
     "name": "stdout",
     "output_type": "stream",
     "text": [
      "Requirement already satisfied: gTTS in c:\\users\\hp\\appdata\\local\\programs\\python\\python313\\lib\\site-packages (2.5.4)\n",
      "Requirement already satisfied: requests<3,>=2.27 in c:\\users\\hp\\appdata\\local\\programs\\python\\python313\\lib\\site-packages (from gTTS) (2.32.4)\n",
      "Requirement already satisfied: click<8.2,>=7.1 in c:\\users\\hp\\appdata\\local\\programs\\python\\python313\\lib\\site-packages (from gTTS) (8.1.8)\n",
      "Requirement already satisfied: colorama in c:\\users\\hp\\appdata\\local\\programs\\python\\python313\\lib\\site-packages (from click<8.2,>=7.1->gTTS) (0.4.6)\n",
      "Requirement already satisfied: charset_normalizer<4,>=2 in c:\\users\\hp\\appdata\\local\\programs\\python\\python313\\lib\\site-packages (from requests<3,>=2.27->gTTS) (3.4.2)\n",
      "Requirement already satisfied: idna<4,>=2.5 in c:\\users\\hp\\appdata\\local\\programs\\python\\python313\\lib\\site-packages (from requests<3,>=2.27->gTTS) (3.10)\n",
      "Requirement already satisfied: urllib3<3,>=1.21.1 in c:\\users\\hp\\appdata\\local\\programs\\python\\python313\\lib\\site-packages (from requests<3,>=2.27->gTTS) (2.5.0)\n",
      "Requirement already satisfied: certifi>=2017.4.17 in c:\\users\\hp\\appdata\\local\\programs\\python\\python313\\lib\\site-packages (from requests<3,>=2.27->gTTS) (2025.6.15)\n"
     ]
    },
    {
     "name": "stderr",
     "output_type": "stream",
     "text": [
      "\n",
      "[notice] A new release of pip is available: 24.3.1 -> 25.1.1\n",
      "[notice] To update, run: python.exe -m pip install --upgrade pip\n"
     ]
    }
   ],
   "source": [
    "!pip install gTTS"
   ]
  },
  {
   "cell_type": "code",
   "execution_count": 5,
   "id": "015064ed",
   "metadata": {},
   "outputs": [
    {
     "ename": "NameError",
     "evalue": "name 'jc' is not defined",
     "output_type": "error",
     "traceback": [
      "\u001b[31m---------------------------------------------------------------------------\u001b[39m",
      "\u001b[31mNameError\u001b[39m                                 Traceback (most recent call last)",
      "\u001b[36mCell\u001b[39m\u001b[36m \u001b[39m\u001b[32mIn[5]\u001b[39m\u001b[32m, line 1\u001b[39m\n\u001b[32m----> \u001b[39m\u001b[32m1\u001b[39m \u001b[43mjc\u001b[49m.sound_box(\u001b[33m\"\u001b[39m\u001b[33msuuiiiiiiiii \u001b[39m\u001b[33m\"\u001b[39m)\n",
      "\u001b[31mNameError\u001b[39m: name 'jc' is not defined"
     ]
    }
   ],
   "source": [
    "jc.sound_box(\"suuiiiiiiiii \")"
   ]
  },
  {
   "cell_type": "code",
   "execution_count": 6,
   "id": "c3c87cd2",
   "metadata": {},
   "outputs": [
    {
     "name": "stdout",
     "output_type": "stream",
     "text": [
      "this is ankit module in python\n",
      "      info:https://www.google.com/\n"
     ]
    }
   ],
   "source": [
    "import john as jc"
   ]
  },
  {
   "cell_type": "code",
   "execution_count": 8,
   "id": "3aa95f47",
   "metadata": {},
   "outputs": [],
   "source": [
    "jc.sound_box(\"suuiiiiiiiii \")"
   ]
  },
  {
   "cell_type": "code",
   "execution_count": null,
   "id": "156a152b",
   "metadata": {},
   "outputs": [
    {
     "ename": "SyntaxError",
     "evalue": "invalid syntax (262277098.py, line 1)",
     "output_type": "error",
     "traceback": [
      "  \u001b[36mCell\u001b[39m\u001b[36m \u001b[39m\u001b[32mIn[9]\u001b[39m\u001b[32m, line 1\u001b[39m\n\u001b[31m    \u001b[39m\u001b[31mjc.student_records(name: \"John\", age: 18, grade: \"A\")\u001b[39m\n                           ^\n\u001b[31mSyntaxError\u001b[39m\u001b[31m:\u001b[39m invalid syntax\n"
     ]
    }
   ],
   "source": [
    "jc.student_records( name: \"John\", age: 18, grade: \"A\")\n"
   ]
  },
  {
   "cell_type": "code",
   "execution_count": 10,
   "id": "6bc7b736",
   "metadata": {},
   "outputs": [
    {
     "data": {
      "text/plain": [
       "21"
      ]
     },
     "execution_count": 10,
     "metadata": {},
     "output_type": "execute_result"
    }
   ],
   "source": [
    "jc.sum_of_n_natural_numbers(6)"
   ]
  },
  {
   "cell_type": "code",
   "execution_count": 11,
   "id": "3eccdfb1",
   "metadata": {},
   "outputs": [
    {
     "name": "stdout",
     "output_type": "stream",
     "text": [
      "done\n"
     ]
    }
   ],
   "source": [
    "from john import student_records\n",
    "print(\"done\")"
   ]
  },
  {
   "cell_type": "code",
   "execution_count": 12,
   "id": "f1f9516d",
   "metadata": {},
   "outputs": [
    {
     "name": "stdout",
     "output_type": "stream",
     "text": [
      "done\n"
     ]
    }
   ],
   "source": [
    "from john import *\n",
    "print(\"done\")"
   ]
  },
  {
   "cell_type": "code",
   "execution_count": 13,
   "id": "d916324e",
   "metadata": {},
   "outputs": [
    {
     "data": {
      "text/plain": [
       "28"
      ]
     },
     "execution_count": 13,
     "metadata": {},
     "output_type": "execute_result"
    }
   ],
   "source": [
    "sum_of_n_natural_numbers(7)"
   ]
  },
  {
   "cell_type": "code",
   "execution_count": 14,
   "id": "83800958",
   "metadata": {},
   "outputs": [
    {
     "name": "stdout",
     "output_type": "stream",
     "text": [
      "done\n"
     ]
    }
   ],
   "source": [
    "import turtle\n",
    "print(\"done\")"
   ]
  },
  {
   "cell_type": "code",
   "execution_count": null,
   "id": "94b2d6ea",
   "metadata": {},
   "outputs": [
    {
     "ename": "",
     "evalue": "",
     "output_type": "error",
     "traceback": [
      "\u001b[1;31mThe Kernel crashed while executing code in the current cell or a previous cell. \n",
      "\u001b[1;31mPlease review the code in the cell(s) to identify a possible cause of the failure. \n",
      "\u001b[1;31mClick <a href='https://aka.ms/vscodeJupyterKernelCrash'>here</a> for more info. \n",
      "\u001b[1;31mView Jupyter <a href='command:jupyter.viewOutput'>log</a> for further details."
     ]
    }
   ],
   "source": [
    "import turtle\n",
    "for i in range(120):\n",
    "    turtle.speed(0)\n",
    "    turtle.bgcolor('black')\n",
    "    col=['red','yellow','green','blue','orange']\n",
    "    import random\n",
    "    picked_color=random.choice(col)\n",
    "    turtle.color(picked_color)\n",
    "    turtle.circle(100)\n",
    "    turtle.left(3)"
   ]
  },
  {
   "cell_type": "code",
   "execution_count": null,
   "id": "2b84792d",
   "metadata": {},
   "outputs": [
    {
     "ename": "",
     "evalue": "",
     "output_type": "error",
     "traceback": [
      "\u001b[1;31mThe Kernel crashed while executing code in the current cell or a previous cell. \n",
      "\u001b[1;31mPlease review the code in the cell(s) to identify a possible cause of the failure. \n",
      "\u001b[1;31mClick <a href='https://aka.ms/vscodeJupyterKernelCrash'>here</a> for more info. \n",
      "\u001b[1;31mView Jupyter <a href='command:jupyter.viewOutput'>log</a> for further details."
     ]
    }
   ],
   "source": [
    "import turtle\n",
    "for i in range(6):\n",
    "    turtle.bgcolor('black')\n",
    "    turtle.color('cyan')\n",
    "    turtle.forward(150)\n",
    "    turtle.left(60)"
   ]
  },
  {
   "cell_type": "code",
   "execution_count": 2,
   "id": "279c58a2",
   "metadata": {},
   "outputs": [
    {
     "name": "stdout",
     "output_type": "stream",
     "text": [
      "print('''this is ankit module in python\n",
      "      info:https://www.google.com/''')\n",
      "\n",
      "\n",
      "def check_palindrome(word:str):\n",
      "  if type(word) == str:\n",
      "    word = word.upper()\n",
      "    if word == word[::-1]:\n",
      "      return 'Palindrome'\n",
      "    else:\n",
      "      return 'Not a Plaindrome'\n",
      "  else:\n",
      "    return 'Invalid Data Type'\n",
      "\n",
      "def give_fibo(n):\n",
      "  fibo = [0,1]\n",
      "  for i in range(n-2):\n",
      "     last_num = fibo[-1]\n",
      "     second_last_num = fibo[-2]\n",
      "     next_num = last_num + second_last_num\n",
      "     fibo.append(next_num)\n",
      "  return fibo\n",
      "\n",
      "def check_prime(number):\n",
      "    for i in range(2,number):\n",
      "        if number % i == 0:\n",
      "            return 'Not a Prime Number'\n",
      "            break\n",
      "            print('Happy Holi')\n",
      "    else:\n",
      "        return 'Prime Number'\n",
      "    \n",
      "    \n",
      "def print_star(n = 5, typ = 'left',shape = '*'):\n",
      "  if typ  == 'left':\n",
      "    space  = ''\n",
      "\n",
      "  elif typ == 'right':\n",
      "    space = '  '\n",
      "\n",
      "  elif typ == 'mid':\n",
      "    space = ' '\n",
      "\n",
      "  for i in range(1,n+1):\n",
      "    print(space*(n-i) + i*f'{shape} ')\n",
      "    \n",
      "    \n",
      "    \n",
      "\n",
      "def sum_of_n_natural_numbers(n):\n",
      "    result = 0\n",
      "    for i in range(1,n+1):\n",
      "        result += i\n",
      "    return result\n",
      "\n",
      "def factorial(n):\n",
      "    result = 1\n",
      "    for i in range(1,n+1):\n",
      "        result *= i\n",
      "    return result\n",
      "\n",
      "\n",
      "def total_sales(*args):\n",
      "  #unpacking\n",
      "  result = 0\n",
      "  for i in args:\n",
      "    result += i\n",
      "  return result\n",
      "\n",
      "\n",
      "def minn(*data):\n",
      "  min_ele = data[0]\n",
      "  for i in data[1:]:\n",
      "    if i< min_ele:\n",
      "      min_ele = i\n",
      "  return min_ele\n",
      "\n",
      "\n",
      "def sound_box(paisa,platform = 'suuiiiiiii'):\n",
      "    from gtts import gTTS\n",
      "    text  = f'''{platform}  {paisa}'''\n",
      "    audio = gTTS(text)\n",
      "    audio.save('paytm.mp3')\n",
      "\n",
      "    import pygame as p\n",
      "    p.init()\n",
      "\n",
      "    music = p.mixer.Sound('paytm.mp3')\n",
      "    music.play()\n",
      "    \n",
      "    \n",
      "    \n",
      "def show_time():\n",
      "    try:\n",
      "     while True:\n",
      "        import time\n",
      "        print(time.asctime())\n",
      "        time.sleep(1)\n",
      "        display(clear=True)\n",
      "    except:\n",
      "        print('time has been stopped by the user')  \n",
      "        \n",
      "        \n",
      "        \n",
      "        \n",
      "        \n",
      "def student_records(**kwargs):\n",
      "    import pandas as pd\n",
      "    try:\n",
      "        data=pd.DataFrame(kwargs)\n",
      "        return data\n",
      "    except:\n",
      "        data=pd.DataFrame(kwargs,index=[1])\n",
      "        return data  \n",
      "    \n",
      "    \n",
      "\n",
      "\n",
      "\n",
      "\n",
      "\n"
     ]
    }
   ],
   "source": [
    "file=open('john.py',mode='r')\n",
    "print(file.read())\n",
    "file.close()"
   ]
  },
  {
   "cell_type": "code",
   "execution_count": 3,
   "id": "cc85cc95",
   "metadata": {},
   "outputs": [
    {
     "name": "stdout",
     "output_type": "stream",
     "text": [
      "print('''this is ankit module in python\n",
      "      info:https://www.google.com/''')\n",
      "\n",
      "\n",
      "def check_palindrom\n"
     ]
    }
   ],
   "source": [
    "file=open('john.py',mode='r')\n",
    "print(file.read(100))\n",
    "file.close()"
   ]
  },
  {
   "cell_type": "code",
   "execution_count": 6,
   "id": "bd0bc713",
   "metadata": {},
   "outputs": [],
   "source": [
    "f=open('john.py',mode='r')\n"
   ]
  },
  {
   "cell_type": "code",
   "execution_count": 11,
   "id": "e5b82b76",
   "metadata": {},
   "outputs": [
    {
     "name": "stdout",
     "output_type": "stream",
     "text": [
      "def check_palindrome(word:str):\n",
      "\n"
     ]
    }
   ],
   "source": [
    "print(f.readline())"
   ]
  },
  {
   "cell_type": "code",
   "execution_count": 12,
   "id": "b338446c",
   "metadata": {},
   "outputs": [
    {
     "name": "stdout",
     "output_type": "stream",
     "text": [
      "done\n"
     ]
    }
   ],
   "source": [
    "f.close()\n",
    "print(\"done\")\n"
   ]
  },
  {
   "cell_type": "code",
   "execution_count": 13,
   "id": "16e3f604",
   "metadata": {},
   "outputs": [],
   "source": [
    "f=open('john.py',mode='r')\n"
   ]
  },
  {
   "cell_type": "code",
   "execution_count": 14,
   "id": "7f198310",
   "metadata": {},
   "outputs": [
    {
     "name": "stdout",
     "output_type": "stream",
     "text": [
      "print('''this is ankit module in python\n",
      "\n",
      "      info:https://www.google.com/''')\n",
      "\n",
      "\n",
      "\n",
      "\n",
      "\n",
      "def check_palindrome(word:str):\n",
      "\n"
     ]
    }
   ],
   "source": [
    "for i in range(5):\n",
    "  print(f.readline())\n",
    "  \n"
   ]
  },
  {
   "cell_type": "code",
   "execution_count": 15,
   "id": "218421a2",
   "metadata": {},
   "outputs": [
    {
     "name": "stdout",
     "output_type": "stream",
     "text": [
      "    if word == word[::-1]:\n",
      "\n"
     ]
    }
   ],
   "source": [
    "f = open('john.py',mode = 'r')\n",
    "for i in range(10):\n",
    "    if i == 7: #line no 8\n",
    "        print(f.readline())\n",
    "    else:\n",
    "        f.readline()"
   ]
  }
 ],
 "metadata": {
  "kernelspec": {
   "display_name": "Python 3",
   "language": "python",
   "name": "python3"
  },
  "language_info": {
   "codemirror_mode": {
    "name": "ipython",
    "version": 3
   },
   "file_extension": ".py",
   "mimetype": "text/x-python",
   "name": "python",
   "nbconvert_exporter": "python",
   "pygments_lexer": "ipython3",
   "version": "3.13.2"
  }
 },
 "nbformat": 4,
 "nbformat_minor": 5
}
