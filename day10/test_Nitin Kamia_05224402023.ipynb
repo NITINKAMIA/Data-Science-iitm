{
 "cells": [
  {
   "cell_type": "code",
   "execution_count": 3,
   "id": "49cf3ca0",
   "metadata": {},
   "outputs": [
    {
     "name": "stdout",
     "output_type": "stream",
     "text": [
      "[1, 2, 3, 4]\n",
      "(1, 2, 3, 4)\n"
     ]
    }
   ],
   "source": [
    "# What's the main difference between a list and a tuple in Python? Give one example of each.\n",
    "# &list\n",
    "# -a list is mutable \n",
    "# -its elemnet' can be changed\n",
    "# -it uses square brackets[]\n",
    "# &tuple\n",
    "# -it is emutable\n",
    "# -its elements cant be changed\n",
    "# -it uses round brackets\n",
    " \n",
    "# list example-\n",
    "list1=[1,2,3,4]\n",
    "print(list1)\n",
    "\n",
    "tuple1=(1,2,3,4)\n",
    "print(tuple1)"
   ]
  },
  {
   "cell_type": "code",
   "execution_count": null,
   "id": "4677e1a8",
   "metadata": {},
   "outputs": [],
   "source": [
    "# Explain what happens when you use the input() function in Python. What data type does it return, and how would you convert it to an integer?\n",
    "# input function help us to take input from the user \n",
    "# syntax of input function is-\n",
    "# user_input = input(\"Please enter something: \")\n",
    "# user will give his input when the you execute the code\n",
    "# this is how we convert-\n",
    "# user_input = input(\"Please enter a number: \")  \n",
    "# number = int(user_input)  \n",
    "#exaple\n",
    "user_input = input(\"Please enter a number: \")  \n",
    "number = int(user_input) \n",
    "print( number)"
   ]
  },
  {
   "cell_type": "code",
   "execution_count": null,
   "id": "41a618ba",
   "metadata": {},
   "outputs": [
    {
     "name": "stdout",
     "output_type": "stream",
     "text": [
      "{'name': 'john', 'age': 51, 'city': 'New York'}\n"
     ]
    }
   ],
   "source": [
    "# What are Python dictionaries? Write the syntax to create a dictionary with three key-value pairs.\n",
    "#dictionaried is a collection of key-value pairs\n",
    "# it is mutable\n",
    "# it is pre defined data type in python\n",
    "# it is un ordered\n",
    "# syntax to create a dictionary with three key-value pairs is-\n",
    "my_dict = {\n",
    "    \"name\": \"john\",\n",
    "    \"age\": 51,\n",
    "    \"city\": \"New York\"\n",
    "}\n",
    "print(my_dict)"
   ]
  },
  {
   "cell_type": "markdown",
   "id": "ae268bbd",
   "metadata": {},
   "source": [
    "Test\n"
   ]
  },
  {
   "cell_type": "code",
   "execution_count": 2,
   "id": "ee046014",
   "metadata": {},
   "outputs": [
    {
     "name": "stdout",
     "output_type": "stream",
     "text": [
      "1\n",
      "2\n",
      "3\n",
      "4\n",
      "5\n"
     ]
    }
   ],
   "source": [
    "# # Describe what a for loop does in Python. Write a simple example that prints numbers 1 to 5.\n",
    "# -for loop is used itreates over a sequence of time \n",
    "# -it can be done on list tuple and dictionary etc\n",
    "# -it is used to execute a block of code multiple times\n",
    "# -syntax of for loop is-\n",
    "for i in range(1,6):\n",
    " print(i)"
   ]
  },
  {
   "cell_type": "code",
   "execution_count": 10,
   "id": "bc7a45f4",
   "metadata": {},
   "outputs": [
    {
     "name": "stdout",
     "output_type": "stream",
     "text": [
      "You cannot divide by zero!\n",
      "Program finished\n"
     ]
    }
   ],
   "source": [
    "# # What is exception handling in Python? Explain the purpose of try , except , and finally blocks with a basic example.\n",
    "# # -exceptional handlig help us to deal with runtime Error\n",
    "# # -it happens during the execution of the program\n",
    "# # -it help us to recognize the error\n",
    "# # -to solve this we use try block and except blockas\n",
    "# try Block-\n",
    "# -Used to write risky code that might raise an error.\n",
    "# we write -try to use it\n",
    "# except Block\n",
    "# it will  only if an error occurs in the try block.\n",
    "# finally Block\n",
    "# Always executes, regardless of whether an error occurred or not.\n",
    "try:\n",
    "    num = int(input(\"Enter a number: \"))  \n",
    "    result = 10 / num  \n",
    "    print( result)  \n",
    "except ZeroDivisionError:\n",
    "    print(\"You cannot divide by zero!\")  \n",
    "finally:\n",
    "    print(\"Program finished\")  \n",
    "\n",
    "\n",
    "\n",
    "\n"
   ]
  },
  {
   "cell_type": "code",
   "execution_count": 11,
   "id": "e2aea7a1",
   "metadata": {},
   "outputs": [
    {
     "name": "stdout",
     "output_type": "stream",
     "text": [
      "The square root of 16 is 4.0\n"
     ]
    }
   ],
   "source": [
    "# What are Python modules? Explain the difference between import math and from math import sqrt .\n",
    "# Give examples of how you'd use both.\n",
    "# python modules are files containing Python code that can define functions, classes, and variables.\n",
    "\n",
    "# it help us to reuse our code\n",
    "import math\n",
    "\n",
    "number = 16\n",
    "result = math.sqrt(number)  \n",
    "print(\"The square root of\", number, \"is\", result)\n",
    "\n",
    "\n"
   ]
  },
  {
   "cell_type": "code",
   "execution_count": 12,
   "id": "3befd269",
   "metadata": {},
   "outputs": [
    {
     "name": "stdout",
     "output_type": "stream",
     "text": [
      "Black BMW is starting...\n"
     ]
    }
   ],
   "source": [
    "# # Explain what object-oriented programming means in Python. What are classes and objects? Give a simple example.\n",
    "# Object-oriented programming in Python allows for the creation of classes and objects, promoting organization, reusability, and abstraction in code. \n",
    "# it helps in eusability of programing\n",
    "# it helps in real life example \n",
    "# it helps in securing the data \n",
    "# oops have its 4 pillars \n",
    "# 1. Encapsulation-\n",
    "# it is the bundling of data and methods that hep us to put the   data within a single unit, or class.\n",
    "# 2. Inheritance-\n",
    "# it is the process by which one class can inherit attributes and methods from another class.\n",
    "# 3. Polymorphism-\n",
    "# it allows objects of different classes to be treated as objects of a common superclass.\n",
    "# means one function can have many forms\n",
    "# 4. Abstraction-\n",
    "# it is the concept of hiding the nesessary details and showing only the essential features of the object.\n",
    "class Car:\n",
    "    def __init__(self, brand, color):\n",
    "        self.brand = brand\n",
    "        self.color = color\n",
    "\n",
    "    def start(self):\n",
    "        print(f\"{self.color} {self.brand} is starting...\")\n",
    "my_car = Car(\"BMW\", \"Black\")\n",
    "my_car.start()\n",
    "\n",
    "\n",
    "\n"
   ]
  },
  {
   "cell_type": "code",
   "execution_count": null,
   "id": "7b4a637e",
   "metadata": {},
   "outputs": [],
   "source": [
    "# What is list comprehension in Python? Rewrite this code using list comprehension:\n",
    "#  List comprehension is a short and easy way to create a new list from an existing list or range, using a single line of code.\n",
    " \n"
   ]
  },
  {
   "cell_type": "code",
   "execution_count": null,
   "id": "9e380f34",
   "metadata": {},
   "outputs": [
    {
     "name": "stdout",
     "output_type": "stream",
     "text": [
      "Hello john, you are 51 years old!\n"
     ]
    }
   ],
   "source": [
    "# Create a program that asks the user for their name and age, then prints a message like \"Hellov\n",
    "# [name], you are [age] years old!\"\n",
    "\n",
    "name = input(\"Enter your name: \")\n",
    "age = input(\"Enter your age: \")\n",
    "print(f\"Hello {name}, you are {age} years old!\")\n"
   ]
  },
  {
   "cell_type": "code",
   "execution_count": null,
   "id": "70a60e5c",
   "metadata": {},
   "outputs": [
    {
     "name": "stdout",
     "output_type": "stream",
     "text": [
      "at number1 thier is this fruitsapple\n",
      "at number2 thier is this fruitsbanana\n",
      "at number3 thier is this fruitscherry\n",
      "at number4 thier is this fruitsdate\n",
      "at number5 thier is this fruitselderberry\n"
     ]
    }
   ],
   "source": [
    "# Write a Python program that creates a list of 5 fruits and then prints each fruit along with its position in the list (starting from 1).\n",
    "fruits=['apple', 'banana', 'cherry', 'date', 'elderberry']\n",
    "for index, fruit in enumerate(fruits, start=1):\n",
    "    print(f\"at number{index} thier is this fruits{fruit}\")"
   ]
  },
  {
   "cell_type": "code",
   "execution_count": 17,
   "id": "56d0e9a4",
   "metadata": {},
   "outputs": [
    {
     "name": "stdout",
     "output_type": "stream",
     "text": [
      "A\n",
      "B\n",
      "C\n",
      "F\n"
     ]
    }
   ],
   "source": [
    "# Write a function called grade_calculator that takes a student's score (0-100) and returns their letter grade:\n",
    "# 90-100: A\n",
    "# 80-89: B\n",
    "# 70-79: C\n",
    "# 60-69: D\n",
    "# Below 60: F\n",
    "# Test it with at least three different scores.\n",
    "def grade_calculator(score):\n",
    "    if score >= 90:\n",
    "        return \"A\"\n",
    "    elif score >= 80:\n",
    "        return \"B\"\n",
    "    elif score >= 70:\n",
    "        return \"C\"\n",
    "    elif score >= 60:\n",
    "        return \"D\"\n",
    "    else:\n",
    "        return \"F\"\n",
    "print(grade_calculator(95)) \n",
    "print(grade_calculator(85)) \n",
    "print(grade_calculator(75))\n",
    "print(grade_calculator(55))    "
   ]
  },
  {
   "cell_type": "code",
   "execution_count": null,
   "id": "f109bd80",
   "metadata": {},
   "outputs": [],
   "source": [
    "# Create a simple program that reads a text file called \"numbers.txt\" (assume it contains numbers, one per line), calculates their sum, and writes the result\n",
    "# to a new file called \"result.txt\". Include proper error handling.\n",
    "# did not getattr"
   ]
  },
  {
   "cell_type": "code",
   "execution_count": null,
   "id": "c347539e",
   "metadata": {},
   "outputs": [],
   "source": []
  },
  {
   "cell_type": "code",
   "execution_count": 18,
   "id": "610e5199",
   "metadata": {},
   "outputs": [
    {
     "name": "stdout",
     "output_type": "stream",
     "text": [
      "Prime numbers between 1 and 50 are:\n",
      "2  3  5  7  11  13  17  19  23  29  31  37  41  43  47  "
     ]
    }
   ],
   "source": [
    "# Write a program that finds all the prime numbers between 1 and 50. A prime number is only divisible by 1 and itself. Display the results in a nicely formatted way.\n",
    "print(\"Prime numbers between 1 and 50 are:\")\n",
    "\n",
    "for num in range(2, 51):  \n",
    "    is_prime = True\n",
    "    for i in range(2, int(num**0.5) + 1):  \n",
    "        if num % i == 0:\n",
    "            is_prime = False\n",
    "            break\n",
    "    if is_prime:\n",
    "        print(num, end='  ')  \n",
    "  \n"
   ]
  }
 ],
 "metadata": {
  "kernelspec": {
   "display_name": "base",
   "language": "python",
   "name": "python3"
  },
  "language_info": {
   "codemirror_mode": {
    "name": "ipython",
    "version": 3
   },
   "file_extension": ".py",
   "mimetype": "text/x-python",
   "name": "python",
   "nbconvert_exporter": "python",
   "pygments_lexer": "ipython3",
   "version": "3.13.5"
  }
 },
 "nbformat": 4,
 "nbformat_minor": 5
}
