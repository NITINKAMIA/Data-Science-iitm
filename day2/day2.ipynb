{
 "cells": [
  {
   "cell_type": "code",
   "execution_count": null,
   "id": "96255b1f",
   "metadata": {},
   "outputs": [],
   "source": [
    "def check_palindrome(word)\n",
    " return word\n"
   ]
  },
  {
   "cell_type": "code",
   "execution_count": null,
   "id": "f7302728",
   "metadata": {},
   "outputs": [],
   "source": [
    "check_palindrome('Ajay')"
   ]
  },
  {
   "cell_type": "code",
   "execution_count": 1,
   "id": "4308d944",
   "metadata": {},
   "outputs": [
    {
     "data": {
      "text/plain": [
       "'ykcul'"
      ]
     },
     "execution_count": 1,
     "metadata": {},
     "output_type": "execute_result"
    }
   ],
   "source": [
    "a='lucky'\n",
    "a[::-1]"
   ]
  },
  {
   "cell_type": "code",
   "execution_count": 2,
   "id": "0bee4539",
   "metadata": {},
   "outputs": [
    {
     "name": "stdout",
     "output_type": "stream",
     "text": [
      "nitin is a palindrome\n"
     ]
    }
   ],
   "source": [
    "a='nitin'\n",
    "if a==a[::-1]:\n",
    "    print(f'{a} is a palindrome')\n",
    "else:\n",
    "    (f'{a} is not a palindrome')"
   ]
  },
  {
   "cell_type": "code",
   "execution_count": 8,
   "id": "1b8af6a2",
   "metadata": {},
   "outputs": [],
   "source": [
    "def check_palindrome(word:str):\n",
    "  if type(word)==str:\n",
    "    word=word.upper()\n",
    "    if word==word[::-1]:\n",
    "      return 'palindrome'\n",
    "    else:\n",
    "        return 'not palindrome'\n",
    "  else:\n",
    "    return'invalid code'"
   ]
  },
  {
   "cell_type": "code",
   "execution_count": 9,
   "id": "0ce541ba",
   "metadata": {},
   "outputs": [
    {
     "data": {
      "text/plain": [
       "'not palindrome'"
      ]
     },
     "execution_count": 9,
     "metadata": {},
     "output_type": "execute_result"
    }
   ],
   "source": [
    "check_palindrome('harry')"
   ]
  },
  {
   "cell_type": "code",
   "execution_count": 10,
   "id": "975fc1d9",
   "metadata": {},
   "outputs": [
    {
     "name": "stdout",
     "output_type": "stream",
     "text": [
      "Mohan\n"
     ]
    }
   ],
   "source": [
    "a:int = 'Mohan'\n",
    "print(a)"
   ]
  },
  {
   "cell_type": "code",
   "execution_count": 12,
   "id": "f8b0fe53",
   "metadata": {},
   "outputs": [],
   "source": [
    "def give_fibo(n):\n",
    "    fibo = [0, 1]\n",
    "    for i in range(n - 2):\n",
    "        last_name = fibo[-1]\n",
    "        second_last_name =fibo[-2]\n",
    "        next_num=last_name + second_last_name\n",
    "        fibo.append(next_num)\n",
    "    return fibo\n"
   ]
  },
  {
   "cell_type": "code",
   "execution_count": 14,
   "id": "12efb284",
   "metadata": {},
   "outputs": [
    {
     "name": "stdout",
     "output_type": "stream",
     "text": [
      "[0, 1, 1, 2, 3]\n"
     ]
    }
   ],
   "source": [
    "print(give_fibo(5))"
   ]
  },
  {
   "cell_type": "code",
   "execution_count": 15,
   "id": "418708c3",
   "metadata": {},
   "outputs": [],
   "source": [
    "def check_prime(number):\n",
    "    for i in range(2,number):\n",
    "        if number%i==0:\n",
    "            return 'not a prime number'\n",
    "            break\n",
    "        else:\n",
    "         return'prime number'"
   ]
  },
  {
   "cell_type": "code",
   "execution_count": 18,
   "id": "2cdfffe8",
   "metadata": {},
   "outputs": [
    {
     "data": {
      "text/plain": [
       "'prime number'"
      ]
     },
     "execution_count": 18,
     "metadata": {},
     "output_type": "execute_result"
    }
   ],
   "source": [
    "check_prime(55)"
   ]
  },
  {
   "cell_type": "code",
   "execution_count": 21,
   "id": "6a3d5f59",
   "metadata": {},
   "outputs": [
    {
     "name": "stdout",
     "output_type": "stream",
     "text": [
      "0\n",
      "1\n",
      "2\n",
      "3\n",
      "4\n"
     ]
    }
   ],
   "source": [
    "n=5\n",
    "for i in range(n):\n",
    "    print(i)"
   ]
  },
  {
   "cell_type": "code",
   "execution_count": 24,
   "id": "e29733a4",
   "metadata": {},
   "outputs": [
    {
     "name": "stdout",
     "output_type": "stream",
     "text": [
      "1\n",
      "2\n",
      "3\n",
      "4\n",
      "5\n"
     ]
    }
   ],
   "source": [
    "n=5\n",
    "for i in range(1,n+1):\n",
    "    print(i)"
   ]
  },
  {
   "cell_type": "code",
   "execution_count": 19,
   "id": "98aa5766",
   "metadata": {},
   "outputs": [
    {
     "name": "stdout",
     "output_type": "stream",
     "text": [
      "*\n",
      "**\n",
      "***\n",
      "****\n",
      "*****\n"
     ]
    }
   ],
   "source": [
    "n=5\n",
    "for i in range(1,n+1):\n",
    "    print(i*'*')"
   ]
  },
  {
   "cell_type": "code",
   "execution_count": 32,
   "id": "9788e47a",
   "metadata": {},
   "outputs": [
    {
     "name": "stdout",
     "output_type": "stream",
     "text": [
      "        * \n",
      "      * * \n",
      "    * * * \n",
      "  * * * * \n",
      "* * * * * \n"
     ]
    }
   ],
   "source": [
    "n=5\n",
    "for i in range(1,n+1):\n",
    "    print('  '*(n-i)+i*'* ')"
   ]
  },
  {
   "cell_type": "code",
   "execution_count": 33,
   "id": "bfa6f85d",
   "metadata": {},
   "outputs": [
    {
     "name": "stdout",
     "output_type": "stream",
     "text": [
      "* \n",
      "* * \n",
      "* * * \n",
      "* * * * \n",
      "* * * * * \n"
     ]
    }
   ],
   "source": [
    "n=5\n",
    "for i in range(1,n+1):\n",
    "    print(''*(n-i)+i*'* ')"
   ]
  },
  {
   "cell_type": "code",
   "execution_count": 37,
   "id": "ff96e77d",
   "metadata": {},
   "outputs": [
    {
     "name": "stdout",
     "output_type": "stream",
     "text": [
      "    * \n",
      "   * * \n",
      "  * * * \n",
      " * * * * \n",
      "* * * * * \n"
     ]
    }
   ],
   "source": [
    "n=5\n",
    "for i in range(1,n+1):\n",
    "    print(' '*(n-i)+i*'* ')"
   ]
  },
  {
   "cell_type": "code",
   "execution_count": 50,
   "id": "3fae929f",
   "metadata": {},
   "outputs": [],
   "source": [
    "def print_star(n=5,typ='left'):\n",
    "        for i in range(1,n+1):\n",
    "         print(''*(n-i)+i*'* ')"
   ]
  },
  {
   "cell_type": "code",
   "execution_count": 51,
   "id": "b14116b6",
   "metadata": {},
   "outputs": [
    {
     "name": "stdout",
     "output_type": "stream",
     "text": [
      "* \n",
      "* * \n",
      "* * * \n"
     ]
    }
   ],
   "source": [
    "print_star(3)"
   ]
  },
  {
   "cell_type": "code",
   "execution_count": 79,
   "id": "dff1e60e",
   "metadata": {},
   "outputs": [],
   "source": [
    "def print_star(n=5,typ='left'):\n",
    "        if typ=='left':\n",
    "            space=''\n",
    "        elif typ=='mid':\n",
    "            space=' '\n",
    "        elif typ=='right':\n",
    "            space='  '\n",
    "        for i in range(1,n+1):\n",
    "            print(space*(n-i)+i*'* ')"
   ]
  },
  {
   "cell_type": "code",
   "execution_count": 73,
   "id": "4ef78c08",
   "metadata": {},
   "outputs": [
    {
     "name": "stdout",
     "output_type": "stream",
     "text": [
      "                            * \n",
      "                          * * \n",
      "                        * * * \n",
      "                      * * * * \n",
      "                    * * * * * \n",
      "                  * * * * * * \n",
      "                * * * * * * * \n",
      "              * * * * * * * * \n",
      "            * * * * * * * * * \n",
      "          * * * * * * * * * * \n",
      "        * * * * * * * * * * * \n",
      "      * * * * * * * * * * * * \n",
      "    * * * * * * * * * * * * * \n",
      "  * * * * * * * * * * * * * * \n",
      "* * * * * * * * * * * * * * * \n"
     ]
    }
   ],
   "source": [
    "print_star(15,'right')\n"
   ]
  },
  {
   "cell_type": "code",
   "execution_count": 74,
   "id": "393fef9f",
   "metadata": {},
   "outputs": [
    {
     "name": "stdout",
     "output_type": "stream",
     "text": [
      "   * \n",
      "  * * \n",
      " * * * \n",
      "* * * * \n"
     ]
    }
   ],
   "source": [
    "print_star(4,'mid')"
   ]
  },
  {
   "cell_type": "code",
   "execution_count": 75,
   "id": "5ed173d1",
   "metadata": {},
   "outputs": [
    {
     "name": "stdout",
     "output_type": "stream",
     "text": [
      "* \n",
      "* * \n",
      "* * * \n",
      "* * * * \n",
      "* * * * * \n",
      "* * * * * * \n",
      "* * * * * * * \n",
      "* * * * * * * * \n"
     ]
    }
   ],
   "source": [
    "print_star(8,'left')"
   ]
  },
  {
   "cell_type": "code",
   "execution_count": 80,
   "id": "f61ec15a",
   "metadata": {},
   "outputs": [],
   "source": [
    "def sum_n_natural_numbers(n):\n",
    "    result=0\n",
    "    for i in range(1,n+1):\n",
    "        result+=i\n",
    "    return result"
   ]
  },
  {
   "cell_type": "code",
   "execution_count": 81,
   "id": "de74da51",
   "metadata": {},
   "outputs": [
    {
     "data": {
      "text/plain": [
       "55"
      ]
     },
     "execution_count": 81,
     "metadata": {},
     "output_type": "execute_result"
    }
   ],
   "source": [
    "sum_n_natural_numbers(10)"
   ]
  },
  {
   "cell_type": "code",
   "execution_count": 82,
   "id": "7f97f04e",
   "metadata": {},
   "outputs": [],
   "source": [
    "def factorial(n):\n",
    "    result=1\n",
    "    for i in range(1,n+1):\n",
    "        result*=i\n",
    "    return result"
   ]
  },
  {
   "cell_type": "code",
   "execution_count": null,
   "id": "48eb0e2f",
   "metadata": {},
   "outputs": [
    {
     "data": {
      "text/plain": [
       "120"
      ]
     },
     "execution_count": 83,
     "metadata": {},
     "output_type": "execute_result"
    }
   ],
   "source": [
    "factorial(5)"
   ]
  },
  {
   "cell_type": "code",
   "execution_count": null,
   "id": "661e77cf",
   "metadata": {},
   "outputs": [],
   "source": [
    "def total_sales(*args):\n",
    "    result=0\n",
    "    for i in args:\n",
    "        result+=i\n",
    "    return result"
   ]
  },
  {
   "cell_type": "code",
   "execution_count": 2,
   "id": "d6c6a344",
   "metadata": {},
   "outputs": [
    {
     "data": {
      "text/plain": [
       "13"
      ]
     },
     "execution_count": 2,
     "metadata": {},
     "output_type": "execute_result"
    }
   ],
   "source": [
    "total_sales(4+6+3)"
   ]
  },
  {
   "cell_type": "code",
   "execution_count": 7,
   "id": "09f23303",
   "metadata": {},
   "outputs": [
    {
     "name": "stdout",
     "output_type": "stream",
     "text": [
      "0\n"
     ]
    }
   ],
   "source": [
    "sales = [45678,63,456,2,0]\n",
    "min_element = sales[0]\n",
    "\n",
    "for i in sales[1:]:\n",
    "  if i < min_element:\n",
    "    min_element = i\n",
    "print(min_element)"
   ]
  },
  {
   "cell_type": "code",
   "execution_count": null,
   "id": "3b328a75",
   "metadata": {},
   "outputs": [
    {
     "name": "stdout",
     "output_type": "stream",
     "text": [
      "45678\n"
     ]
    }
   ],
   "source": [
    "sales = [45678,63,456,2,0]\n",
    "max_element = sales[4]\n",
    "\n",
    "for i in sales[:4]:\n",
    "  if i > max_element:\n",
    "    max_element = i\n",
    "print(max_element)"
   ]
  },
  {
   "cell_type": "code",
   "execution_count": 11,
   "id": "a9ae2f45",
   "metadata": {},
   "outputs": [],
   "source": [
    "def minn(*data):\n",
    "    max_element = sales[4]\n",
    "\n",
    "    for i in sales[:4]:\n",
    "        if i > max_element:\n",
    "            max_element = i\n",
    "    return max_element\n",
    "    "
   ]
  },
  {
   "cell_type": "code",
   "execution_count": 12,
   "id": "6005e820",
   "metadata": {},
   "outputs": [
    {
     "data": {
      "text/plain": [
       "45678"
      ]
     },
     "execution_count": 12,
     "metadata": {},
     "output_type": "execute_result"
    }
   ],
   "source": [
    "minn()"
   ]
  },
  {
   "cell_type": "code",
   "execution_count": 18,
   "id": "b35aa3c5",
   "metadata": {},
   "outputs": [],
   "source": [
    "def maxx(*data):\n",
    "    min_element = sales[1]\n",
    "\n",
    "    for i in sales[1:]:\n",
    "        if i > min_element:\n",
    "            min_element = i\n",
    "    return min_element\n",
    "    "
   ]
  },
  {
   "cell_type": "code",
   "execution_count": 19,
   "id": "eb5f59a9",
   "metadata": {},
   "outputs": [
    {
     "data": {
      "text/plain": [
       "456"
      ]
     },
     "execution_count": 19,
     "metadata": {},
     "output_type": "execute_result"
    }
   ],
   "source": [
    "maxx()"
   ]
  },
  {
   "cell_type": "code",
   "execution_count": 37,
   "id": "6eefd8f5",
   "metadata": {},
   "outputs": [],
   "source": [
    "company=['ola','uber','rapido','indrive','adani','tata']\n",
    " \n",
    "def add_hashtag(*company):\n",
    "    result=[]\n",
    "    for i in company:\n",
    "        result.append('#'+i.upper())\n",
    "    return result"
   ]
  },
  {
   "cell_type": "code",
   "execution_count": 32,
   "id": "24ca2c8f",
   "metadata": {},
   "outputs": [
    {
     "data": {
      "text/plain": [
       "['#OLA', '#UBER', '#RAPIDO', '#INDRIVE', '#ADANI', '#TATA']"
      ]
     },
     "execution_count": 32,
     "metadata": {},
     "output_type": "execute_result"
    }
   ],
   "source": [
    "add_hashtag(*company)\n"
   ]
  },
  {
   "cell_type": "code",
   "execution_count": 38,
   "id": "652f568b",
   "metadata": {},
   "outputs": [
    {
     "data": {
      "text/plain": [
       "['#OLA', '#UBER']"
      ]
     },
     "execution_count": 38,
     "metadata": {},
     "output_type": "execute_result"
    }
   ],
   "source": [
    "add_hashtag('ola','uber')"
   ]
  },
  {
   "cell_type": "code",
   "execution_count": 41,
   "id": "d4906efd",
   "metadata": {},
   "outputs": [],
   "source": [
    "def store_records(name,age,sec,roll_no,Class):\n",
    "    dict={'name':name,'age':age,'sec':sec,'roll_no':roll_no,'Class':Class}\n",
    "    import pandas as pd\n",
    "    result =pd.DataFrame(dict,index=[1])\n",
    "    return result"
   ]
  },
  {
   "cell_type": "code",
   "execution_count": null,
   "id": "5e89a31d",
   "metadata": {},
   "outputs": [
    {
     "data": {
      "text/html": [
       "<div>\n",
       "<style scoped>\n",
       "    .dataframe tbody tr th:only-of-type {\n",
       "        vertical-align: middle;\n",
       "    }\n",
       "\n",
       "    .dataframe tbody tr th {\n",
       "        vertical-align: top;\n",
       "    }\n",
       "\n",
       "    .dataframe thead th {\n",
       "        text-align: right;\n",
       "    }\n",
       "</style>\n",
       "<table border=\"1\" class=\"dataframe\">\n",
       "  <thead>\n",
       "    <tr style=\"text-align: right;\">\n",
       "      <th></th>\n",
       "      <th>name</th>\n",
       "      <th>age</th>\n",
       "      <th>sec</th>\n",
       "      <th>roll_no</th>\n",
       "      <th>Class</th>\n",
       "    </tr>\n",
       "  </thead>\n",
       "  <tbody>\n",
       "    <tr>\n",
       "      <th>1</th>\n",
       "      <td>john</td>\n",
       "      <td>65</td>\n",
       "      <td>E</td>\n",
       "      <td>12</td>\n",
       "      <td>52</td>\n",
       "    </tr>\n",
       "  </tbody>\n",
       "</table>\n",
       "</div>"
      ],
      "text/plain": [
       "   name  age sec  roll_no  Class\n",
       "1  john   65   E       12     52"
      ]
     },
     "metadata": {},
     "output_type": "display_data"
    },
    {
     "data": {
      "text/html": [
       "<div>\n",
       "<style scoped>\n",
       "    .dataframe tbody tr th:only-of-type {\n",
       "        vertical-align: middle;\n",
       "    }\n",
       "\n",
       "    .dataframe tbody tr th {\n",
       "        vertical-align: top;\n",
       "    }\n",
       "\n",
       "    .dataframe thead th {\n",
       "        text-align: right;\n",
       "    }\n",
       "</style>\n",
       "<table border=\"1\" class=\"dataframe\">\n",
       "  <thead>\n",
       "    <tr style=\"text-align: right;\">\n",
       "      <th></th>\n",
       "      <th>name</th>\n",
       "      <th>age</th>\n",
       "      <th>sec</th>\n",
       "      <th>roll_no</th>\n",
       "      <th>Class</th>\n",
       "    </tr>\n",
       "  </thead>\n",
       "  <tbody>\n",
       "    <tr>\n",
       "      <th>1</th>\n",
       "      <td>randy</td>\n",
       "      <td>66</td>\n",
       "      <td>r</td>\n",
       "      <td>11</td>\n",
       "      <td>53</td>\n",
       "    </tr>\n",
       "  </tbody>\n",
       "</table>\n",
       "</div>"
      ],
      "text/plain": [
       "    name  age sec  roll_no  Class\n",
       "1  randy   66   r       11     53"
      ]
     },
     "metadata": {},
     "output_type": "display_data"
    },
    {
     "data": {
      "text/html": [
       "<div>\n",
       "<style scoped>\n",
       "    .dataframe tbody tr th:only-of-type {\n",
       "        vertical-align: middle;\n",
       "    }\n",
       "\n",
       "    .dataframe tbody tr th {\n",
       "        vertical-align: top;\n",
       "    }\n",
       "\n",
       "    .dataframe thead th {\n",
       "        text-align: right;\n",
       "    }\n",
       "</style>\n",
       "<table border=\"1\" class=\"dataframe\">\n",
       "  <thead>\n",
       "    <tr style=\"text-align: right;\">\n",
       "      <th></th>\n",
       "      <th>name</th>\n",
       "      <th>age</th>\n",
       "      <th>sec</th>\n",
       "      <th>roll_no</th>\n",
       "      <th>Class</th>\n",
       "    </tr>\n",
       "  </thead>\n",
       "  <tbody>\n",
       "    <tr>\n",
       "      <th>1</th>\n",
       "      <td>brock</td>\n",
       "      <td>67</td>\n",
       "      <td>j</td>\n",
       "      <td>10</td>\n",
       "      <td>57</td>\n",
       "    </tr>\n",
       "  </tbody>\n",
       "</table>\n",
       "</div>"
      ],
      "text/plain": [
       "    name  age sec  roll_no  Class\n",
       "1  brock   67   j       10     57"
      ]
     },
     "metadata": {},
     "output_type": "display_data"
    }
   ],
   "source": [
    "display(store_records('john',65,'E',12,52))\n",
    "display(store_records('randy',66,'r',11,53))\n",
    "display(store_records('brock',67,'j',10,57))"
   ]
  }
 ],
 "metadata": {
  "kernelspec": {
   "display_name": "Python 3",
   "language": "python",
   "name": "python3"
  },
  "language_info": {
   "codemirror_mode": {
    "name": "ipython",
    "version": 3
   },
   "file_extension": ".py",
   "mimetype": "text/x-python",
   "name": "python",
   "nbconvert_exporter": "python",
   "pygments_lexer": "ipython3",
   "version": "3.13.2"
  }
 },
 "nbformat": 4,
 "nbformat_minor": 5
}
