{
 "cells": [
  {
   "cell_type": "markdown",
   "id": "3dbc1e4e-88bc-45d4-81e8-50e8632387b0",
   "metadata": {},
   "source": [
    "inheritance\n"
   ]
  },
  {
   "cell_type": "code",
   "execution_count": 1,
   "id": "f95104dc-d41b-49f1-b3c1-da181fc76790",
   "metadata": {},
   "outputs": [],
   "source": [
    "class BMW:#parent class\n",
    "    def super_turbo_engine(self):\n",
    "        print('super turbo engine fast speed')\n",
    "\n",
    "class Audi(BMW):#child class\n",
    "    def auto_pilot(self):\n",
    "        print('can run on auto pilot')\n",
    "        \n",
    "    "
   ]
  },
  {
   "cell_type": "code",
   "execution_count": 2,
   "id": "d4b5f505-6dc5-4a6a-b424-3c66baa1c9ad",
   "metadata": {},
   "outputs": [],
   "source": [
    "m3=BMW()"
   ]
  },
  {
   "cell_type": "code",
   "execution_count": 3,
   "id": "d8eb2d09-0b47-46dc-8e93-ac678eaa6475",
   "metadata": {},
   "outputs": [
    {
     "name": "stdout",
     "output_type": "stream",
     "text": [
      "super turbo engine fast speed\n"
     ]
    }
   ],
   "source": [
    "m3.super_turbo_engine()"
   ]
  },
  {
   "cell_type": "code",
   "execution_count": 4,
   "id": "1763e047-c15f-42a9-853e-457bc76a68db",
   "metadata": {},
   "outputs": [],
   "source": [
    "r8=Audi()"
   ]
  },
  {
   "cell_type": "code",
   "execution_count": 5,
   "id": "52a0c0a1-5baa-4bc3-8e02-11cec8e6eed6",
   "metadata": {},
   "outputs": [
    {
     "name": "stdout",
     "output_type": "stream",
     "text": [
      "super turbo engine fast speed\n"
     ]
    }
   ],
   "source": [
    "r8.super_turbo_engine()"
   ]
  },
  {
   "cell_type": "code",
   "execution_count": 6,
   "id": "38c79707-38a1-4594-bba3-6bb16c260371",
   "metadata": {},
   "outputs": [
    {
     "name": "stdout",
     "output_type": "stream",
     "text": [
      "can run on auto pilot\n"
     ]
    }
   ],
   "source": [
    "r8.auto_pilot()"
   ]
  },
  {
   "cell_type": "code",
   "execution_count": 7,
   "id": "509b17f2-b2f0-4cb8-97c6-6f1cf685dba6",
   "metadata": {},
   "outputs": [],
   "source": [
    "\n",
    "class Daily_Object:\n",
    "    def phone_case(self):\n",
    "        print('strong build phone case')\n",
    "class JBL:\n",
    "    def sonic_speaker(self):\n",
    "     print('high quality sound speaker')\n",
    "class samsung:\n",
    "    def screen_display(self):\n",
    "     print(\"4k display\")\n",
    "class Nvidia:\n",
    "    def motherboard(self):\n",
    "     print('fast motherboard')\n",
    "class sony:\n",
    "    def charger(self):\n",
    "        print('4k camara')\n",
    "class Lava:\n",
    "    def charger(self):\n",
    "        print('superfast')\n",
    "class One_Plus:\n",
    "  def charger(self):\n",
    "    print('Original Superfast Charger!! From One_Plus')        \n",
    "class Mobile(Daily_Object,JBL,samsung, Nvidia, sony, Lava,One_Plus):\n",
    "    def __init__(self):\n",
    "     print(\"Phone Object Created Successfully!!\")\n",
    "    def charger(self):\n",
    "     print('Actual charger free mobile')\n",
    "    \n",
    "           "
   ]
  },
  {
   "cell_type": "code",
   "execution_count": 8,
   "id": "d69ce7d4-07ad-4407-9c27-95164d5e9d7e",
   "metadata": {},
   "outputs": [
    {
     "name": "stdout",
     "output_type": "stream",
     "text": [
      "Phone Object Created Successfully!!\n"
     ]
    }
   ],
   "source": [
    "s24=Mobile()"
   ]
  },
  {
   "cell_type": "code",
   "execution_count": 9,
   "id": "0c3781ee-a6dd-477e-adf5-dd5eca0227c0",
   "metadata": {},
   "outputs": [
    {
     "name": "stdout",
     "output_type": "stream",
     "text": [
      "Actual charger free mobile\n"
     ]
    }
   ],
   "source": [
    "s24.charger()"
   ]
  },
  {
   "cell_type": "code",
   "execution_count": 10,
   "id": "e35da83b-9bf6-4889-8bcd-3567592d5a1d",
   "metadata": {},
   "outputs": [
    {
     "name": "stdout",
     "output_type": "stream",
     "text": [
      "fast motherboard\n"
     ]
    }
   ],
   "source": [
    "s24.motherboard()"
   ]
  },
  {
   "cell_type": "code",
   "execution_count": 11,
   "id": "4f9e441f-ca73-47b1-9e77-efa59dc7068c",
   "metadata": {},
   "outputs": [
    {
     "name": "stdout",
     "output_type": "stream",
     "text": [
      "strong build phone case\n"
     ]
    }
   ],
   "source": [
    "s24.phone_case()"
   ]
  },
  {
   "cell_type": "code",
   "execution_count": 12,
   "id": "a3d3c90d-c0f4-4566-b8e1-90ec7eccefc2",
   "metadata": {},
   "outputs": [
    {
     "name": "stdout",
     "output_type": "stream",
     "text": [
      "4k display\n"
     ]
    }
   ],
   "source": [
    "s24.screen_display()"
   ]
  },
  {
   "cell_type": "code",
   "execution_count": 13,
   "id": "cf682df0-bd4e-43d4-b493-9ff7c4faaa8a",
   "metadata": {},
   "outputs": [
    {
     "name": "stdout",
     "output_type": "stream",
     "text": [
      "high quality sound speaker\n"
     ]
    }
   ],
   "source": [
    "s24.sonic_speaker()"
   ]
  },
  {
   "cell_type": "code",
   "execution_count": 14,
   "id": "622272c2-dd73-4edb-b351-cf25abb0a7d8",
   "metadata": {},
   "outputs": [],
   "source": [
    "class Grandfather:\n",
    "    def land_property(self):\n",
    "        print(\"land property\")\n",
    "class father(Grandfather):\n",
    "    def bank_balance(self):\n",
    "        print(\"full control\")\n",
    "class son(father):\n",
    "    def political_power(self):\n",
    "        print(\"political power\")\n",
    "class grandson(son):\n",
    "    def mind(self):\n",
    "        print(\"mind for self study\")\n",
    "class friend(grandson):\n",
    "    def __init__(self):\n",
    "        print(\"nothing\")\n",
    "    "
   ]
  },
  {
   "cell_type": "code",
   "execution_count": 15,
   "id": "3d4c8304-9ea0-46f1-8d78-7080f7397449",
   "metadata": {},
   "outputs": [
    {
     "name": "stdout",
     "output_type": "stream",
     "text": [
      "nothing\n"
     ]
    }
   ],
   "source": [
    "chintu=friend()"
   ]
  },
  {
   "cell_type": "code",
   "execution_count": 16,
   "id": "03298acc-80c2-4c21-b758-8b64b79e8ef9",
   "metadata": {},
   "outputs": [
    {
     "name": "stdout",
     "output_type": "stream",
     "text": [
      "full control\n"
     ]
    }
   ],
   "source": [
    "chintu.bank_balance()"
   ]
  },
  {
   "cell_type": "code",
   "execution_count": 17,
   "id": "15c1aa8a-eb74-4f53-b576-6320ee20d03d",
   "metadata": {},
   "outputs": [
    {
     "name": "stdout",
     "output_type": "stream",
     "text": [
      "land property\n"
     ]
    }
   ],
   "source": [
    "chintu.land_property()"
   ]
  },
  {
   "cell_type": "code",
   "execution_count": 18,
   "id": "1c45d1fd-2cd3-4fc6-82b8-58746cb56c8a",
   "metadata": {},
   "outputs": [
    {
     "name": "stdout",
     "output_type": "stream",
     "text": [
      "mind for self study\n"
     ]
    }
   ],
   "source": [
    "chintu.mind()"
   ]
  },
  {
   "cell_type": "code",
   "execution_count": 19,
   "id": "5b8fd2e0-2e63-47aa-818e-f6b034c10613",
   "metadata": {},
   "outputs": [
    {
     "name": "stdout",
     "output_type": "stream",
     "text": [
      "political power\n"
     ]
    }
   ],
   "source": [
    "chintu.political_power()"
   ]
  },
  {
   "cell_type": "code",
   "execution_count": 20,
   "id": "c0adcf6f-a55d-4fc9-9eb6-058c4cc951e5",
   "metadata": {},
   "outputs": [],
   "source": [
    "class Hybrid_class(Mobile,friend,Audi):\n",
    " def __imit__(self):\n",
    "    print('this is hybrid class')\n",
    " def info(self):\n",
    "     print('it can call any method')"
   ]
  },
  {
   "cell_type": "code",
   "execution_count": 21,
   "id": "52ca3aaf-a585-4431-b8b2-8e33b6a4af52",
   "metadata": {},
   "outputs": [
    {
     "name": "stdout",
     "output_type": "stream",
     "text": [
      "Phone Object Created Successfully!!\n"
     ]
    }
   ],
   "source": [
    "ofa=Hybrid_class()"
   ]
  },
  {
   "cell_type": "code",
   "execution_count": 22,
   "id": "a812f4a4-4faf-4045-8250-818ee4248081",
   "metadata": {},
   "outputs": [
    {
     "name": "stdout",
     "output_type": "stream",
     "text": [
      "it can call any method\n"
     ]
    }
   ],
   "source": [
    "ofa.info()"
   ]
  },
  {
   "cell_type": "code",
   "execution_count": 23,
   "id": "3189bc80-a2c7-46c9-a3cb-06d31ebd594f",
   "metadata": {},
   "outputs": [],
   "source": [
    "class UGC:  \n",
    "  def __init__(self):\n",
    "    print('Grant Permission')\n",
    "  def college_approved(self):\n",
    "    print('College Has been Approved')\n",
    "\n",
    "class DU:\n",
    "  def multiple_colleges(self):\n",
    "    print('List of Colleges!!')\n",
    "\n",
    "class IP:\n",
    "  def multiple_colleges(self):\n",
    "    print('List of Colleges!!')\n",
    "\n",
    "\n",
    "class DTU:\n",
    "  def multiple_colleges(self):\n",
    "    print('List of Colleges!!')\n",
    "\n",
    "class BHU:\n",
    "  def multiple_colleges(self):\n",
    "    print('List of Colleges!!')"
   ]
  },
  {
   "cell_type": "code",
   "execution_count": 24,
   "id": "d179eec4-d83c-462b-91ca-71adb09ae3c7",
   "metadata": {},
   "outputs": [],
   "source": [
    "# overriding\n",
    "# overloading"
   ]
  },
  {
   "cell_type": "code",
   "execution_count": 25,
   "id": "4452e5c8-5e33-4c7f-9561-596c6846497d",
   "metadata": {},
   "outputs": [
    {
     "name": "stdout",
     "output_type": "stream",
     "text": [
      "None <class 'NoneType'>\n"
     ]
    }
   ],
   "source": [
    "a = 45\n",
    "\n",
    "a = '45'\n",
    "\n",
    "a = None#none  dont have any datatype\n",
    "\n",
    "print(a,type(a))"
   ]
  },
  {
   "cell_type": "code",
   "execution_count": 26,
   "id": "9d862b85-5eef-4612-a7f3-db16881e60a0",
   "metadata": {},
   "outputs": [],
   "source": [
    "class Car:\n",
    "    def speed(self):\n",
    "        return(\"max speed 200km\\hr\")\n",
    "    def auto_pilot(self):\n",
    "        return(\"it support auto pilot\")\n",
    "    def info(self):\n",
    "        return(\"this is just a car object\")\n",
    "\n",
    "class Bmw(Car):\n",
    "    def speed(self):\n",
    "        return(\"max speed 250km\\hr\")\n",
    "    def info(self):\n",
    "        return(\"a bmw car  object\")\n",
    "class Audi(Car):\n",
    "  def speed(self):\n",
    "    print('Max speed 300 km/hr')\n",
    "\n",
    "  def info(self):\n",
    "    print('Audi car🏎️')\n",
    "for i in [Car,Bmw,Audi]:\n",
    "    f1=i()"
   ]
  },
  {
   "cell_type": "code",
   "execution_count": 27,
   "id": "89286946-e750-41c2-8266-22d89d8b8598",
   "metadata": {},
   "outputs": [
    {
     "name": "stdout",
     "output_type": "stream",
     "text": [
      "max speed 200km\\hr\n"
     ]
    }
   ],
   "source": [
    "f1=Car()\n",
    "print(f1.speed())"
   ]
  },
  {
   "cell_type": "code",
   "execution_count": 28,
   "id": "4a3cabca-55fc-4a0e-9279-ddaf54f0ad83",
   "metadata": {},
   "outputs": [
    {
     "name": "stdout",
     "output_type": "stream",
     "text": [
      "max speed 250km\\hr\n"
     ]
    }
   ],
   "source": [
    "f1 = Bmw()\n",
    "print(f1.speed())"
   ]
  },
  {
   "cell_type": "code",
   "execution_count": 29,
   "id": "3433e8a1-70b4-41b8-b909-54ea8be36233",
   "metadata": {},
   "outputs": [
    {
     "name": "stdout",
     "output_type": "stream",
     "text": [
      "Max speed 300 km/hr\n",
      "None\n"
     ]
    }
   ],
   "source": [
    "f1 = Audi()\n",
    "print(f1.speed())"
   ]
  },
  {
   "cell_type": "code",
   "execution_count": 30,
   "id": "feaf58ad-7c59-48bc-a98a-38131b303c36",
   "metadata": {},
   "outputs": [
    {
     "name": "stdout",
     "output_type": "stream",
     "text": [
      "Audi car🏎️\n"
     ]
    }
   ],
   "source": [
    "f1.info()"
   ]
  },
  {
   "cell_type": "code",
   "execution_count": 31,
   "id": "b74454a6-b3ea-437d-8e29-fa343ad27b4a",
   "metadata": {},
   "outputs": [
    {
     "name": "stdout",
     "output_type": "stream",
     "text": [
      "Hello tyrion lannister,how are you??\n",
      "Your Address is Kings landing\n"
     ]
    }
   ],
   "source": [
    "class IITM:\n",
    "\n",
    "  def info(self):\n",
    "    print('Hello Candidates!!')\n",
    "\n",
    "  def info(self,name):\n",
    "    print(f'Hello {name},how are you??')\n",
    "\n",
    "  def info(self,name,address):\n",
    "    print(f'Hello {name},how are you??')\n",
    "    print(f'Your Address is {address}')\n",
    "\n",
    "a = IITM()\n",
    "\n",
    "a.info('tyrion lannister','Kings landing')"
   ]
  },
  {
   "cell_type": "code",
   "execution_count": 32,
   "id": "bed97ee6-282d-46f6-a302-acd11996c219",
   "metadata": {},
   "outputs": [],
   "source": [
    "class IITM:\n",
    "\n",
    "  def info(self,name = None,address = None):\n",
    "    if (name == None) and (address == None):\n",
    "      print('Hello Candidates!!')\n",
    "\n",
    "    elif name != None and (address == None):\n",
    "      print(f'Hello {name},how are you??')\n",
    "\n",
    "    elif (name != None) and  (address != None):\n",
    "      print(f'Hello {name},how are you??')\n",
    "      print(f'Your Address is {address}')\n",
    "\n",
    "    else:\n",
    "      print('Hello Buddy!!')"
   ]
  },
  {
   "cell_type": "code",
   "execution_count": 33,
   "id": "416dd09a-2905-4a1d-b1ff-12c6ea248e56",
   "metadata": {},
   "outputs": [
    {
     "name": "stdout",
     "output_type": "stream",
     "text": [
      "done\n"
     ]
    }
   ],
   "source": [
    "john=IITM()\n",
    "print(\"done\")"
   ]
  },
  {
   "cell_type": "code",
   "execution_count": 34,
   "id": "15f3874d-e7ba-4d95-b98d-56b09b59cb41",
   "metadata": {},
   "outputs": [
    {
     "name": "stdout",
     "output_type": "stream",
     "text": [
      "Hello nitin,how are you??\n",
      "Your Address is uttam nager\n"
     ]
    }
   ],
   "source": [
    "john.info(\"nitin\",\"uttam nager\")"
   ]
  },
  {
   "cell_type": "code",
   "execution_count": 35,
   "id": "7dabdac1-b6e9-41c7-a928-9492caf48c08",
   "metadata": {},
   "outputs": [
    {
     "name": "stdout",
     "output_type": "stream",
     "text": [
      "Hello Candidates!!\n"
     ]
    }
   ],
   "source": [
    "john.info()"
   ]
  },
  {
   "cell_type": "code",
   "execution_count": 36,
   "id": "bce959bd-6ffe-48a6-a184-da0157fc8e3a",
   "metadata": {},
   "outputs": [
    {
     "name": "stdout",
     "output_type": "stream",
     "text": [
      "Hello Buddy!!\n"
     ]
    }
   ],
   "source": [
    "john.info(address='jamnapar')"
   ]
  },
  {
   "cell_type": "code",
   "execution_count": 37,
   "id": "c86bd978-05c4-4a01-b871-baf8bd2adbb2",
   "metadata": {},
   "outputs": [
    {
     "name": "stdout",
     "output_type": "stream",
     "text": [
      "Hello shiven,how are you??\n",
      "Your Address is jamnapar\n"
     ]
    }
   ],
   "source": [
    "john.info('shiven','jamnapar')"
   ]
  },
  {
   "cell_type": "code",
   "execution_count": 38,
   "id": "400d1088-74e5-4162-a773-42667de92c16",
   "metadata": {},
   "outputs": [
    {
     "name": "stdout",
     "output_type": "stream",
     "text": [
      "Hello shiven,how are you??\n",
      "Your Address is jamnapar\n"
     ]
    }
   ],
   "source": [
    "john.info(address='jamnapar',name='shiven')"
   ]
  },
  {
   "cell_type": "code",
   "execution_count": 53,
   "id": "b78edc7c-3e15-4377-bcde-b130e4e9bd24",
   "metadata": {},
   "outputs": [
    {
     "name": "stdout",
     "output_type": "stream",
     "text": [
      "This is a Login method\n",
      "This is a Logout method\n",
      "Done\n"
     ]
    }
   ],
   "source": [
    "from abc import ABC, abstractmethod\n",
    "\n",
    "class Website(ABC):\n",
    "    @abstractmethod\n",
    "    def login(self):\n",
    "        pass\n",
    "\n",
    "    @abstractmethod\n",
    "    def logout(self):\n",
    "        pass\n",
    "\n",
    "class Nakul(Website):\n",
    "    def login(self):\n",
    "        print('This is a Login method')\n",
    "\n",
    "    def logout(self):\n",
    "        print('This is a Logout method')\n",
    "\n",
    "asus = Nakul()\n",
    "asus.login()\n",
    "asus.logout()\n",
    "print('Done')\n"
   ]
  },
  {
   "cell_type": "code",
   "execution_count": 54,
   "id": "60ffc87e-e805-4a02-918a-b11330d0a09f",
   "metadata": {},
   "outputs": [],
   "source": [
    "class Website:\n",
    "    def homepage(self):\n",
    "        print(\"Welcome to the website\")\n",
    "\n",
    "class Nakul(Website):\n",
    "    def signup(self):\n",
    "        print('User can Signup!!')\n",
    "\n",
    "    def login(self):\n",
    "        print('This is a Login Form')\n",
    "\n",
    "    def logout(self):\n",
    "        print('User can Logout')\n",
    "\n",
    "google = Nakul()"
   ]
  },
  {
   "cell_type": "code",
   "execution_count": 55,
   "id": "ef07e777-db1a-4d3a-941a-9d319b6184c4",
   "metadata": {},
   "outputs": [
    {
     "name": "stdout",
     "output_type": "stream",
     "text": [
      "User can Signup!!\n"
     ]
    }
   ],
   "source": [
    "google.signup()"
   ]
  },
  {
   "cell_type": "code",
   "execution_count": 56,
   "id": "5e5ee1e0-d44f-4da6-8d3c-f0056d998c09",
   "metadata": {},
   "outputs": [
    {
     "name": "stdout",
     "output_type": "stream",
     "text": [
      "This is a Login Form\n"
     ]
    }
   ],
   "source": [
    "google.login()"
   ]
  },
  {
   "cell_type": "code",
   "execution_count": 57,
   "id": "631f9c2f-3c5c-4a66-ab15-ef60a219e7a3",
   "metadata": {},
   "outputs": [
    {
     "name": "stdout",
     "output_type": "stream",
     "text": [
      "User can Logout\n"
     ]
    }
   ],
   "source": [
    "google.logout()"
   ]
  },
  {
   "cell_type": "code",
   "execution_count": 58,
   "id": "db4bd07b-dbd1-45a1-8f07-d2ca2e5d3d56",
   "metadata": {},
   "outputs": [],
   "source": [
    "google = Website()"
   ]
  },
  {
   "cell_type": "code",
   "execution_count": null,
   "id": "b9079d37-6271-416c-8f8a-027fe0731a5c",
   "metadata": {},
   "outputs": [],
   "source": []
  },
  {
   "cell_type": "code",
   "execution_count": null,
   "id": "50845222-129d-4de5-ba34-7c297c6070e4",
   "metadata": {},
   "outputs": [],
   "source": []
  },
  {
   "cell_type": "code",
   "execution_count": null,
   "id": "0a4c59e7-9fa7-46db-84d9-94cd9b1ab309",
   "metadata": {},
   "outputs": [],
   "source": []
  },
  {
   "cell_type": "code",
   "execution_count": null,
   "id": "27398b85-cde2-4bd3-b8a3-094aa0888aaf",
   "metadata": {},
   "outputs": [],
   "source": []
  }
 ],
 "metadata": {
  "kernelspec": {
   "display_name": "Python 3 (ipykernel)",
   "language": "python",
   "name": "python3"
  },
  "language_info": {
   "codemirror_mode": {
    "name": "ipython",
    "version": 3
   },
   "file_extension": ".py",
   "mimetype": "text/x-python",
   "name": "python",
   "nbconvert_exporter": "python",
   "pygments_lexer": "ipython3",
   "version": "3.13.5"
  }
 },
 "nbformat": 4,
 "nbformat_minor": 5
}
